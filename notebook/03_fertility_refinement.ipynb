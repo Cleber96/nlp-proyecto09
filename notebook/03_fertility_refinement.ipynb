{
 "cells": [
  {
   "cell_type": "code",
   "execution_count": 1,
   "id": "2ddf5c37",
   "metadata": {},
   "outputs": [
    {
     "name": "stderr",
     "output_type": "stream",
     "text": [
      "/home/cleber/Escritorio/nlp-proyecto09/venv/lib/python3.12/site-packages/tqdm/auto.py:21: TqdmWarning: IProgress not found. Please update jupyter and ipywidgets. See https://ipywidgets.readthedocs.io/en/stable/user_install.html\n",
      "  from .autonotebook import tqdm as notebook_tqdm\n"
     ]
    }
   ],
   "source": [
    "from src.fertility_predictor import FertilityPredictor\n",
    "import torch"
   ]
  },
  {
   "cell_type": "code",
   "execution_count": 2,
   "id": "ed0bc814",
   "metadata": {},
   "outputs": [],
   "source": [
    "dummy_encoder_hidden = torch.randn(2, 10, 768)\n",
    "model = FertilityPredictor(768)\n",
    "fertilities = model(dummy_encoder_hidden)"
   ]
  },
  {
   "cell_type": "code",
   "execution_count": 3,
   "id": "5a837def",
   "metadata": {},
   "outputs": [
    {
     "name": "stdout",
     "output_type": "stream",
     "text": [
      "Predicciones de fertilidad (forma): torch.Size([2, 10, 10])\n",
      "Ejemplo: tensor([[-0.0236,  0.3876,  0.2140,  0.0435, -1.0600, -0.6253, -0.3714, -0.2059,\n",
      "          0.5129, -0.4798],\n",
      "        [ 1.2243,  0.5691,  0.1440, -0.2740,  0.2330, -0.1931,  0.2945, -0.2025,\n",
      "         -0.1047, -0.7023],\n",
      "        [-0.7288, -0.3019, -0.3827, -1.0511, -0.0518, -0.0813,  0.5063,  1.3653,\n",
      "          1.2782,  0.7659],\n",
      "        [-0.3205,  0.5177,  0.0858, -0.6184, -0.4357,  0.1632,  0.3641, -0.3314,\n",
      "         -0.6793, -0.6545],\n",
      "        [ 0.1501, -0.8715,  0.7491,  0.4811, -0.2560,  0.0063, -0.2878,  0.3057,\n",
      "          1.4915,  0.3623],\n",
      "        [ 0.3303, -0.2497,  0.4751, -0.1749,  0.3326,  0.6064, -0.6478, -0.3846,\n",
      "         -0.0767,  0.5295],\n",
      "        [-0.4512, -0.2641,  0.2909, -0.3998, -1.0873, -0.4915,  0.9470, -0.6173,\n",
      "          0.3832,  0.2127],\n",
      "        [-0.3533, -0.0933,  0.3156, -0.1249,  0.0705,  0.9466, -0.0430,  0.4071,\n",
      "          0.2738, -0.5978],\n",
      "        [ 0.4954, -0.9301,  0.8169,  0.0500, -0.9222, -0.1867, -0.2820, -0.7438,\n",
      "         -0.5021,  0.0253],\n",
      "        [ 0.1826,  0.5006, -0.2051,  0.6829, -0.3656,  0.0545,  0.4518,  0.0460,\n",
      "         -0.0405,  0.1638]], grad_fn=<SelectBackward0>)\n"
     ]
    }
   ],
   "source": [
    "print(\"Predicciones de fertilidad (forma):\", fertilities.shape)\n",
    "print(\"Ejemplo:\", fertilities[0])"
   ]
  },
  {
   "cell_type": "code",
   "execution_count": null,
   "id": "9b3bfaeb",
   "metadata": {},
   "outputs": [],
   "source": []
  }
 ],
 "metadata": {
  "kernelspec": {
   "display_name": "venv",
   "language": "python",
   "name": "python3"
  },
  "language_info": {
   "codemirror_mode": {
    "name": "ipython",
    "version": 3
   },
   "file_extension": ".py",
   "mimetype": "text/x-python",
   "name": "python",
   "nbconvert_exporter": "python",
   "pygments_lexer": "ipython3",
   "version": "3.12.3"
  }
 },
 "nbformat": 4,
 "nbformat_minor": 5
}
