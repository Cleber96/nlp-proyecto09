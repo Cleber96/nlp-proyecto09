{
 "cells": [
  {
   "cell_type": "code",
   "execution_count": 1,
   "id": "cb57b044",
   "metadata": {},
   "outputs": [
    {
     "name": "stderr",
     "output_type": "stream",
     "text": [
      "/home/cleber/Escritorio/nlp-proyecto09/venv/lib/python3.12/site-packages/tqdm/auto.py:21: TqdmWarning: IProgress not found. Please update jupyter and ipywidgets. See https://ipywidgets.readthedocs.io/en/stable/user_install.html\n",
      "  from .autonotebook import tqdm as notebook_tqdm\n"
     ]
    }
   ],
   "source": [
    "from src.evaluate import evaluate\n",
    "from transformers import BertTokenizer\n",
    "from src.mask_predict import MaskPredictNAT\n",
    "import torch\n",
    "import time\n",
    "from nltk.translate.bleu_score import corpus_bleu"
   ]
  },
  {
   "cell_type": "code",
   "execution_count": 2,
   "id": "dec771db",
   "metadata": {},
   "outputs": [],
   "source": [
    "tokenizer = BertTokenizer.from_pretrained(\"bert-base-uncased\")\n",
    "model = MaskPredictNAT(tokenizer)"
   ]
  },
  {
   "cell_type": "code",
   "execution_count": 3,
   "id": "fc7c944f",
   "metadata": {},
   "outputs": [
    {
     "ename": "IndexError",
     "evalue": "Dimension out of range (expected to be in range of [-1, 0], but got 1)",
     "output_type": "error",
     "traceback": [
      "\u001b[31m---------------------------------------------------------------------------\u001b[39m",
      "\u001b[31mIndexError\u001b[39m                                Traceback (most recent call last)",
      "\u001b[36mCell\u001b[39m\u001b[36m \u001b[39m\u001b[32mIn[3]\u001b[39m\u001b[32m, line 2\u001b[39m\n\u001b[32m      1\u001b[39m dummy_data = [{\u001b[33m\"\u001b[39m\u001b[33minput_ids\u001b[39m\u001b[33m\"\u001b[39m: torch.randint(\u001b[32m0\u001b[39m, \u001b[32m100\u001b[39m, (\u001b[32m10\u001b[39m,)), \u001b[33m\"\u001b[39m\u001b[33mlabels\u001b[39m\u001b[33m\"\u001b[39m: torch.randint(\u001b[32m0\u001b[39m, \u001b[32m100\u001b[39m, (\u001b[32m10\u001b[39m,))} \u001b[38;5;28;01mfor\u001b[39;00m _ \u001b[38;5;129;01min\u001b[39;00m \u001b[38;5;28mrange\u001b[39m(\u001b[32m5\u001b[39m)]\n\u001b[32m----> \u001b[39m\u001b[32m2\u001b[39m bleu, latency = \u001b[43mevaluate\u001b[49m\u001b[43m(\u001b[49m\u001b[43mmodel\u001b[49m\u001b[43m,\u001b[49m\u001b[43m \u001b[49m\u001b[43mdummy_data\u001b[49m\u001b[43m,\u001b[49m\u001b[43m \u001b[49m\u001b[43mtokenizer\u001b[49m\u001b[43m)\u001b[49m\n\u001b[32m      3\u001b[39m \u001b[38;5;28mprint\u001b[39m(\u001b[33mf\u001b[39m\u001b[33m\"\u001b[39m\u001b[33mBLEU Score: \u001b[39m\u001b[38;5;132;01m{\u001b[39;00mbleu\u001b[38;5;132;01m:\u001b[39;00m\u001b[33m.2f\u001b[39m\u001b[38;5;132;01m}\u001b[39;00m\u001b[33m\"\u001b[39m)\n\u001b[32m      4\u001b[39m \u001b[38;5;28mprint\u001b[39m(\u001b[33mf\u001b[39m\u001b[33m\"\u001b[39m\u001b[33mLatencia promedio por muestra: \u001b[39m\u001b[38;5;132;01m{\u001b[39;00mlatency\u001b[38;5;132;01m:\u001b[39;00m\u001b[33m.4f\u001b[39m\u001b[38;5;132;01m}\u001b[39;00m\u001b[33m segundos\u001b[39m\u001b[33m\"\u001b[39m)\n",
      "\u001b[36mFile \u001b[39m\u001b[32m~/Escritorio/nlp-proyecto09/notebook/src/evaluate.py:19\u001b[39m, in \u001b[36mevaluate\u001b[39m\u001b[34m(model, dataloader, tokenizer)\u001b[39m\n\u001b[32m     16\u001b[39m input_ids = input_ids.to(\u001b[38;5;28mnext\u001b[39m(model.parameters()).device)\n\u001b[32m     17\u001b[39m labels = labels.to(\u001b[38;5;28mnext\u001b[39m(model.parameters()).device)\n\u001b[32m---> \u001b[39m\u001b[32m19\u001b[39m pred_ids = \u001b[43mmodel\u001b[49m\u001b[43m.\u001b[49m\u001b[43mdecode\u001b[49m\u001b[43m(\u001b[49m\u001b[43minput_ids\u001b[49m\u001b[43m)\u001b[49m \n\u001b[32m     20\u001b[39m preds = tokenizer.batch_decode(pred_ids, skip_special_tokens=\u001b[38;5;28;01mTrue\u001b[39;00m)\n\u001b[32m     21\u001b[39m refs = tokenizer.batch_decode(labels, skip_special_tokens=\u001b[38;5;28;01mTrue\u001b[39;00m)\n",
      "\u001b[36mFile \u001b[39m\u001b[32m~/Escritorio/nlp-proyecto09/notebook/src/mask_predict.py:12\u001b[39m, in \u001b[36mMaskPredictNAT.decode\u001b[39m\u001b[34m(self, src_embeddings)\u001b[39m\n\u001b[32m     11\u001b[39m \u001b[38;5;28;01mdef\u001b[39;00m\u001b[38;5;250m \u001b[39m\u001b[34mdecode\u001b[39m(\u001b[38;5;28mself\u001b[39m, src_embeddings):\n\u001b[32m---> \u001b[39m\u001b[32m12\u001b[39m     seq_len = \u001b[43msrc_embeddings\u001b[49m\u001b[43m.\u001b[49m\u001b[43msize\u001b[49m\u001b[43m(\u001b[49m\u001b[32;43m1\u001b[39;49m\u001b[43m)\u001b[49m\n\u001b[32m     13\u001b[39m     output = torch.full((src_embeddings.size(\u001b[32m0\u001b[39m), seq_len), \u001b[38;5;28mself\u001b[39m.tokenizer.mask_token_id).to(src_embeddings.device)\n\u001b[32m     14\u001b[39m     \u001b[38;5;28;01mfor\u001b[39;00m _ \u001b[38;5;129;01min\u001b[39;00m \u001b[38;5;28mrange\u001b[39m(\u001b[38;5;28mself\u001b[39m.num_iterations):\n",
      "\u001b[31mIndexError\u001b[39m: Dimension out of range (expected to be in range of [-1, 0], but got 1)"
     ]
    }
   ],
   "source": [
    "dummy_data = [{\"input_ids\": torch.randint(0, 100, (10,)), \"labels\": torch.randint(0, 100, (10,))} for _ in range(5)]\n",
    "bleu, latency = evaluate(model, dummy_data, tokenizer)\n",
    "print(f\"BLEU Score: {bleu:.2f}\")\n",
    "print(f\"Latencia promedio por muestra: {latency:.4f} segundos\")"
   ]
  },
  {
   "cell_type": "code",
   "execution_count": null,
   "id": "e40785c8",
   "metadata": {},
   "outputs": [],
   "source": []
  }
 ],
 "metadata": {
  "kernelspec": {
   "display_name": "venv",
   "language": "python",
   "name": "python3"
  },
  "language_info": {
   "codemirror_mode": {
    "name": "ipython",
    "version": 3
   },
   "file_extension": ".py",
   "mimetype": "text/x-python",
   "name": "python",
   "nbconvert_exporter": "python",
   "pygments_lexer": "ipython3",
   "version": "3.12.3"
  }
 },
 "nbformat": 4,
 "nbformat_minor": 5
}
