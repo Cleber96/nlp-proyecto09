{
 "cells": [
  {
   "cell_type": "code",
   "execution_count": 1,
   "id": "4074a30f",
   "metadata": {},
   "outputs": [
    {
     "name": "stderr",
     "output_type": "stream",
     "text": [
      "/home/cleber/Escritorio/nlp-proyecto09/venv/lib/python3.12/site-packages/tqdm/auto.py:21: TqdmWarning: IProgress not found. Please update jupyter and ipywidgets. See https://ipywidgets.readthedocs.io/en/stable/user_install.html\n",
      "  from .autonotebook import tqdm as notebook_tqdm\n"
     ]
    }
   ],
   "source": [
    "from src.latent_variable_nat import LatentNAT\n",
    "import torch"
   ]
  },
  {
   "cell_type": "code",
   "execution_count": 4,
   "id": "793d274e",
   "metadata": {},
   "outputs": [],
   "source": [
    "dummy_input = torch.randn(2, 12, 768)\n",
    "model = LatentNAT()"
   ]
  },
  {
   "cell_type": "code",
   "execution_count": 5,
   "id": "171fda34",
   "metadata": {},
   "outputs": [
    {
     "name": "stdout",
     "output_type": "stream",
     "text": [
      "Forma de la salida: torch.Size([2, 12, 30522])\n"
     ]
    }
   ],
   "source": [
    "output = model(dummy_input)\n",
    "print(\"Forma de la salida:\", output.shape)"
   ]
  },
  {
   "cell_type": "code",
   "execution_count": null,
   "id": "0c889cfc",
   "metadata": {},
   "outputs": [],
   "source": []
  }
 ],
 "metadata": {
  "kernelspec": {
   "display_name": "venv",
   "language": "python",
   "name": "python3"
  },
  "language_info": {
   "codemirror_mode": {
    "name": "ipython",
    "version": 3
   },
   "file_extension": ".py",
   "mimetype": "text/x-python",
   "name": "python",
   "nbconvert_exporter": "python",
   "pygments_lexer": "ipython3",
   "version": "3.12.3"
  }
 },
 "nbformat": 4,
 "nbformat_minor": 5
}
